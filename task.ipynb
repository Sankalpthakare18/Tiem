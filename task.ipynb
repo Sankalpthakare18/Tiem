{
 "cells": [
  {
   "cell_type": "code",
   "execution_count": 81,
   "metadata": {},
   "outputs": [
    {
     "data": {
      "text/html": [
       "<div>\n",
       "<style scoped>\n",
       "    .dataframe tbody tr th:only-of-type {\n",
       "        vertical-align: middle;\n",
       "    }\n",
       "\n",
       "    .dataframe tbody tr th {\n",
       "        vertical-align: top;\n",
       "    }\n",
       "\n",
       "    .dataframe thead th {\n",
       "        text-align: right;\n",
       "    }\n",
       "</style>\n",
       "<table border=\"1\" class=\"dataframe\">\n",
       "  <thead>\n",
       "    <tr style=\"text-align: right;\">\n",
       "      <th></th>\n",
       "      <th>Material</th>\n",
       "      <th>Material Description</th>\n",
       "      <th>SLoc</th>\n",
       "      <th>Area</th>\n",
       "      <th>MvT</th>\n",
       "      <th>Doc_Date</th>\n",
       "      <th>Qty.</th>\n",
       "      <th>Amount</th>\n",
       "    </tr>\n",
       "  </thead>\n",
       "  <tbody>\n",
       "    <tr>\n",
       "      <th>0</th>\n",
       "      <td>15</td>\n",
       "      <td>Plain Washer Din125 A10&amp;5 A2</td>\n",
       "      <td>M4P1</td>\n",
       "      <td>C'SHWAR STR</td>\n",
       "      <td>261</td>\n",
       "      <td>2016-09-14</td>\n",
       "      <td>15.0</td>\n",
       "      <td>28.12</td>\n",
       "    </tr>\n",
       "    <tr>\n",
       "      <th>1</th>\n",
       "      <td>15</td>\n",
       "      <td>Plain Washer Din125 A10&amp;5 A2</td>\n",
       "      <td>M4P1</td>\n",
       "      <td>C'SHWAR STR</td>\n",
       "      <td>261</td>\n",
       "      <td>2016-09-08</td>\n",
       "      <td>10.0</td>\n",
       "      <td>18.74</td>\n",
       "    </tr>\n",
       "    <tr>\n",
       "      <th>2</th>\n",
       "      <td>15</td>\n",
       "      <td>Plain Washer Din125 A10&amp;5 A2</td>\n",
       "      <td>M2SH</td>\n",
       "      <td>KARAD</td>\n",
       "      <td>261</td>\n",
       "      <td>2016-08-12</td>\n",
       "      <td>8.0</td>\n",
       "      <td>15.00</td>\n",
       "    </tr>\n",
       "    <tr>\n",
       "      <th>3</th>\n",
       "      <td>15</td>\n",
       "      <td>Plain Washer Din125 A10&amp;5 A2</td>\n",
       "      <td>M4P1</td>\n",
       "      <td>C'SHWAR STR</td>\n",
       "      <td>261</td>\n",
       "      <td>2016-08-06</td>\n",
       "      <td>10.0</td>\n",
       "      <td>18.75</td>\n",
       "    </tr>\n",
       "    <tr>\n",
       "      <th>4</th>\n",
       "      <td>15</td>\n",
       "      <td>Plain Washer Din125 A10&amp;5 A2</td>\n",
       "      <td>M4P3</td>\n",
       "      <td>C'SHWAR STR</td>\n",
       "      <td>261</td>\n",
       "      <td>2016-08-06</td>\n",
       "      <td>10.0</td>\n",
       "      <td>18.75</td>\n",
       "    </tr>\n",
       "    <tr>\n",
       "      <th>...</th>\n",
       "      <td>...</td>\n",
       "      <td>...</td>\n",
       "      <td>...</td>\n",
       "      <td>...</td>\n",
       "      <td>...</td>\n",
       "      <td>...</td>\n",
       "      <td>...</td>\n",
       "      <td>...</td>\n",
       "    </tr>\n",
       "    <tr>\n",
       "      <th>7555</th>\n",
       "      <td>N89042</td>\n",
       "      <td>spare WEC trafo corru 950KVA,33/0.4KV</td>\n",
       "      <td>M4BH</td>\n",
       "      <td>KARAD</td>\n",
       "      <td>261</td>\n",
       "      <td>2015-12-03</td>\n",
       "      <td>1.0</td>\n",
       "      <td>0.00</td>\n",
       "    </tr>\n",
       "    <tr>\n",
       "      <th>7556</th>\n",
       "      <td>N89042</td>\n",
       "      <td>spare WEC trafo corru 950KVA,33/0.4KV</td>\n",
       "      <td>M4BH</td>\n",
       "      <td>Area1</td>\n",
       "      <td>262</td>\n",
       "      <td>2015-10-19</td>\n",
       "      <td>-1.0</td>\n",
       "      <td>0.00</td>\n",
       "    </tr>\n",
       "    <tr>\n",
       "      <th>7557</th>\n",
       "      <td>N89042</td>\n",
       "      <td>spare WEC trafo corru 950KVA,33/0.4KV</td>\n",
       "      <td>M4P3</td>\n",
       "      <td>Area2</td>\n",
       "      <td>262</td>\n",
       "      <td>2015-09-16</td>\n",
       "      <td>-1.0</td>\n",
       "      <td>0.00</td>\n",
       "    </tr>\n",
       "    <tr>\n",
       "      <th>7558</th>\n",
       "      <td>N89042</td>\n",
       "      <td>spare WEC trafo corru 950KVA,33/0.4KV</td>\n",
       "      <td>M4BH</td>\n",
       "      <td>KARAD</td>\n",
       "      <td>261</td>\n",
       "      <td>2015-09-11</td>\n",
       "      <td>1.0</td>\n",
       "      <td>0.00</td>\n",
       "    </tr>\n",
       "    <tr>\n",
       "      <th>7559</th>\n",
       "      <td>N89042</td>\n",
       "      <td>spare WEC trafo corru 950KVA,33/0.4KV</td>\n",
       "      <td>M4BH</td>\n",
       "      <td>Area1</td>\n",
       "      <td>262</td>\n",
       "      <td>2015-09-11</td>\n",
       "      <td>-1.0</td>\n",
       "      <td>0.00</td>\n",
       "    </tr>\n",
       "  </tbody>\n",
       "</table>\n",
       "<p>7560 rows × 8 columns</p>\n",
       "</div>"
      ],
      "text/plain": [
       "     Material                   Material Description  SLoc         Area  MvT  \\\n",
       "0          15           Plain Washer Din125 A10&5 A2  M4P1  C'SHWAR STR  261   \n",
       "1          15           Plain Washer Din125 A10&5 A2  M4P1  C'SHWAR STR  261   \n",
       "2          15           Plain Washer Din125 A10&5 A2  M2SH        KARAD  261   \n",
       "3          15           Plain Washer Din125 A10&5 A2  M4P1  C'SHWAR STR  261   \n",
       "4          15           Plain Washer Din125 A10&5 A2  M4P3  C'SHWAR STR  261   \n",
       "...       ...                                    ...   ...          ...  ...   \n",
       "7555   N89042  spare WEC trafo corru 950KVA,33/0.4KV  M4BH        KARAD  261   \n",
       "7556   N89042  spare WEC trafo corru 950KVA,33/0.4KV  M4BH        Area1  262   \n",
       "7557   N89042  spare WEC trafo corru 950KVA,33/0.4KV  M4P3        Area2  262   \n",
       "7558   N89042  spare WEC trafo corru 950KVA,33/0.4KV  M4BH        KARAD  261   \n",
       "7559   N89042  spare WEC trafo corru 950KVA,33/0.4KV  M4BH        Area1  262   \n",
       "\n",
       "       Doc_Date  Qty.  Amount  \n",
       "0    2016-09-14  15.0   28.12  \n",
       "1    2016-09-08  10.0   18.74  \n",
       "2    2016-08-12   8.0   15.00  \n",
       "3    2016-08-06  10.0   18.75  \n",
       "4    2016-08-06  10.0   18.75  \n",
       "...         ...   ...     ...  \n",
       "7555 2015-12-03   1.0    0.00  \n",
       "7556 2015-10-19  -1.0    0.00  \n",
       "7557 2015-09-16  -1.0    0.00  \n",
       "7558 2015-09-11   1.0    0.00  \n",
       "7559 2015-09-11  -1.0    0.00  \n",
       "\n",
       "[7560 rows x 8 columns]"
      ]
     },
     "execution_count": 81,
     "metadata": {},
     "output_type": "execute_result"
    }
   ],
   "source": [
    "import pandas as pd\n",
    "df1 = pd.read_excel(\"Spare parts.xlsx\",sheet_name=0)\n",
    "df1"
   ]
  },
  {
   "cell_type": "code",
   "execution_count": 82,
   "metadata": {},
   "outputs": [
    {
     "data": {
      "text/html": [
       "<div>\n",
       "<style scoped>\n",
       "    .dataframe tbody tr th:only-of-type {\n",
       "        vertical-align: middle;\n",
       "    }\n",
       "\n",
       "    .dataframe tbody tr th {\n",
       "        vertical-align: top;\n",
       "    }\n",
       "\n",
       "    .dataframe thead th {\n",
       "        text-align: right;\n",
       "    }\n",
       "</style>\n",
       "<table border=\"1\" class=\"dataframe\">\n",
       "  <thead>\n",
       "    <tr style=\"text-align: right;\">\n",
       "      <th></th>\n",
       "      <th>Material</th>\n",
       "      <th>Material Description</th>\n",
       "      <th>SLoc</th>\n",
       "      <th>Area</th>\n",
       "      <th>MvT</th>\n",
       "      <th>Doc_Date</th>\n",
       "      <th>Quantity</th>\n",
       "      <th>Amount LC</th>\n",
       "    </tr>\n",
       "  </thead>\n",
       "  <tbody>\n",
       "    <tr>\n",
       "      <th>0</th>\n",
       "      <td>15</td>\n",
       "      <td>Plain Washer Din125 A10&amp;5 A2</td>\n",
       "      <td>M4BH</td>\n",
       "      <td>Area1</td>\n",
       "      <td>261</td>\n",
       "      <td>2014-09-08</td>\n",
       "      <td>10.0</td>\n",
       "      <td>18.74</td>\n",
       "    </tr>\n",
       "    <tr>\n",
       "      <th>1</th>\n",
       "      <td>15</td>\n",
       "      <td>Plain Washer Din125 A10&amp;5 A2</td>\n",
       "      <td>M1BH</td>\n",
       "      <td>Area1</td>\n",
       "      <td>261</td>\n",
       "      <td>2014-09-08</td>\n",
       "      <td>6.0</td>\n",
       "      <td>11.25</td>\n",
       "    </tr>\n",
       "    <tr>\n",
       "      <th>2</th>\n",
       "      <td>15</td>\n",
       "      <td>Plain Washer Din125 A10&amp;5 A2</td>\n",
       "      <td>M2SH</td>\n",
       "      <td>Area1</td>\n",
       "      <td>261</td>\n",
       "      <td>2014-08-05</td>\n",
       "      <td>2.0</td>\n",
       "      <td>3.75</td>\n",
       "    </tr>\n",
       "    <tr>\n",
       "      <th>3</th>\n",
       "      <td>15</td>\n",
       "      <td>Plain Washer Din125 A10&amp;5 A2</td>\n",
       "      <td>M4CV</td>\n",
       "      <td>Area2</td>\n",
       "      <td>261</td>\n",
       "      <td>2014-06-29</td>\n",
       "      <td>25.0</td>\n",
       "      <td>46.86</td>\n",
       "    </tr>\n",
       "    <tr>\n",
       "      <th>4</th>\n",
       "      <td>15</td>\n",
       "      <td>Plain Washer Din125 A10&amp;5 A2</td>\n",
       "      <td>M1MH</td>\n",
       "      <td>Area1</td>\n",
       "      <td>261</td>\n",
       "      <td>2014-06-28</td>\n",
       "      <td>4.0</td>\n",
       "      <td>7.50</td>\n",
       "    </tr>\n",
       "    <tr>\n",
       "      <th>...</th>\n",
       "      <td>...</td>\n",
       "      <td>...</td>\n",
       "      <td>...</td>\n",
       "      <td>...</td>\n",
       "      <td>...</td>\n",
       "      <td>...</td>\n",
       "      <td>...</td>\n",
       "      <td>...</td>\n",
       "    </tr>\n",
       "    <tr>\n",
       "      <th>29972</th>\n",
       "      <td>N89042</td>\n",
       "      <td>spare WEC trafo corru 950KVA,33/0.4KV</td>\n",
       "      <td>M4BH</td>\n",
       "      <td>Area1</td>\n",
       "      <td>261</td>\n",
       "      <td>2015-12-03</td>\n",
       "      <td>1.0</td>\n",
       "      <td>0.00</td>\n",
       "    </tr>\n",
       "    <tr>\n",
       "      <th>29973</th>\n",
       "      <td>N89042</td>\n",
       "      <td>spare WEC trafo corru 950KVA,33/0.4KV</td>\n",
       "      <td>M4BH</td>\n",
       "      <td>Area1</td>\n",
       "      <td>262</td>\n",
       "      <td>2015-10-19</td>\n",
       "      <td>-1.0</td>\n",
       "      <td>0.00</td>\n",
       "    </tr>\n",
       "    <tr>\n",
       "      <th>29974</th>\n",
       "      <td>N89042</td>\n",
       "      <td>spare WEC trafo corru 950KVA,33/0.4KV</td>\n",
       "      <td>M4P3</td>\n",
       "      <td>Area2</td>\n",
       "      <td>262</td>\n",
       "      <td>2015-09-16</td>\n",
       "      <td>-1.0</td>\n",
       "      <td>0.00</td>\n",
       "    </tr>\n",
       "    <tr>\n",
       "      <th>29975</th>\n",
       "      <td>N89042</td>\n",
       "      <td>spare WEC trafo corru 950KVA,33/0.4KV</td>\n",
       "      <td>M4BH</td>\n",
       "      <td>Area1</td>\n",
       "      <td>261</td>\n",
       "      <td>2015-09-11</td>\n",
       "      <td>1.0</td>\n",
       "      <td>0.00</td>\n",
       "    </tr>\n",
       "    <tr>\n",
       "      <th>29976</th>\n",
       "      <td>N89042</td>\n",
       "      <td>spare WEC trafo corru 950KVA,33/0.4KV</td>\n",
       "      <td>M4BH</td>\n",
       "      <td>Area1</td>\n",
       "      <td>262</td>\n",
       "      <td>2015-09-11</td>\n",
       "      <td>-1.0</td>\n",
       "      <td>0.00</td>\n",
       "    </tr>\n",
       "  </tbody>\n",
       "</table>\n",
       "<p>29977 rows × 8 columns</p>\n",
       "</div>"
      ],
      "text/plain": [
       "      Material                   Material Description  SLoc   Area  MvT  \\\n",
       "0           15           Plain Washer Din125 A10&5 A2  M4BH  Area1  261   \n",
       "1           15           Plain Washer Din125 A10&5 A2  M1BH  Area1  261   \n",
       "2           15           Plain Washer Din125 A10&5 A2  M2SH  Area1  261   \n",
       "3           15           Plain Washer Din125 A10&5 A2  M4CV  Area2  261   \n",
       "4           15           Plain Washer Din125 A10&5 A2  M1MH  Area1  261   \n",
       "...        ...                                    ...   ...    ...  ...   \n",
       "29972   N89042  spare WEC trafo corru 950KVA,33/0.4KV  M4BH  Area1  261   \n",
       "29973   N89042  spare WEC trafo corru 950KVA,33/0.4KV  M4BH  Area1  262   \n",
       "29974   N89042  spare WEC trafo corru 950KVA,33/0.4KV  M4P3  Area2  262   \n",
       "29975   N89042  spare WEC trafo corru 950KVA,33/0.4KV  M4BH  Area1  261   \n",
       "29976   N89042  spare WEC trafo corru 950KVA,33/0.4KV  M4BH  Area1  262   \n",
       "\n",
       "        Doc_Date       Quantity       Amount LC  \n",
       "0     2014-09-08           10.0           18.74  \n",
       "1     2014-09-08            6.0           11.25  \n",
       "2     2014-08-05            2.0            3.75  \n",
       "3     2014-06-29           25.0           46.86  \n",
       "4     2014-06-28            4.0            7.50  \n",
       "...          ...            ...             ...  \n",
       "29972 2015-12-03            1.0            0.00  \n",
       "29973 2015-10-19           -1.0            0.00  \n",
       "29974 2015-09-16           -1.0            0.00  \n",
       "29975 2015-09-11            1.0            0.00  \n",
       "29976 2015-09-11           -1.0            0.00  \n",
       "\n",
       "[29977 rows x 8 columns]"
      ]
     },
     "execution_count": 82,
     "metadata": {},
     "output_type": "execute_result"
    }
   ],
   "source": [
    "df2 = pd.read_excel(\"Spare parts.xlsx\",sheet_name=1)\n",
    "df2"
   ]
  },
  {
   "cell_type": "code",
   "execution_count": 83,
   "metadata": {},
   "outputs": [
    {
     "name": "stdout",
     "output_type": "stream",
     "text": [
      "Index(['Material', 'Material Description', 'SLoc', 'Area', 'MvT', 'Doc_Date',\n",
      "       'Qty.', 'Amount'],\n",
      "      dtype='object') --- Index(['Material', 'Material Description', 'SLoc', 'Area', 'MvT', 'Doc_Date',\n",
      "       '     Quantity', '     Amount LC'],\n",
      "      dtype='object')\n"
     ]
    }
   ],
   "source": [
    "print(df1.columns , \"---\" , df2.columns)"
   ]
  },
  {
   "cell_type": "code",
   "execution_count": 84,
   "metadata": {},
   "outputs": [],
   "source": [
    "df2.rename(columns={\n",
    "    '     Quantity': 'Qty.', \n",
    "    '     Amount LC': 'Amount' \n",
    "}, inplace=True)"
   ]
  },
  {
   "cell_type": "code",
   "execution_count": 85,
   "metadata": {},
   "outputs": [],
   "source": [
    "df1.columns = df1.columns.str.strip()\n",
    "df2.columns = df2.columns.str.strip()"
   ]
  },
  {
   "cell_type": "code",
   "execution_count": 86,
   "metadata": {},
   "outputs": [
    {
     "name": "stdout",
     "output_type": "stream",
     "text": [
      "Material                0\n",
      "Material Description    0\n",
      "SLoc                    0\n",
      "Area                    0\n",
      "MvT                     0\n",
      "Doc_Date                0\n",
      "Qty.                    0\n",
      "Amount                  0\n",
      "dtype: int64 -- Material                0\n",
      "Material Description    0\n",
      "SLoc                    0\n",
      "Area                    0\n",
      "MvT                     0\n",
      "Doc_Date                0\n",
      "Qty.                    0\n",
      "Amount                  0\n",
      "dtype: int64\n"
     ]
    }
   ],
   "source": [
    "print(df1.isna().sum(),\"--\" , df2.isna().sum())"
   ]
  },
  {
   "cell_type": "code",
   "execution_count": 87,
   "metadata": {},
   "outputs": [
    {
     "data": {
      "text/plain": [
       "Index(['Material', 'Material Description', 'SLoc', 'Area', 'MvT', 'Doc_Date',\n",
       "       'Qty.', 'Amount'],\n",
       "      dtype='object')"
      ]
     },
     "execution_count": 87,
     "metadata": {},
     "output_type": "execute_result"
    }
   ],
   "source": [
    "final_data = pd.concat([df1, df2], ignore_index=True)\n",
    "final_data.columns"
   ]
  },
  {
   "cell_type": "code",
   "execution_count": 88,
   "metadata": {},
   "outputs": [],
   "source": [
    "final_data.to_csv(\"final_data.csv\",index=False)"
   ]
  },
  {
   "cell_type": "markdown",
   "metadata": {},
   "source": [
    "#### Model Building "
   ]
  },
  {
   "cell_type": "code",
   "execution_count": 89,
   "metadata": {},
   "outputs": [],
   "source": [
    "import pandas as pd\n",
    "import numpy as np\n",
    "from statsmodels.tsa.arima.model import ARIMA\n",
    "from sklearn.ensemble import RandomForestRegressor\n",
    "from sklearn.metrics import mean_absolute_percentage_error\n",
    "import matplotlib.pyplot as plt\n",
    "from sklearn.model_selection import train_test_split\n"
   ]
  },
  {
   "cell_type": "code",
   "execution_count": 90,
   "metadata": {},
   "outputs": [],
   "source": [
    "df = pd.read_csv('final_data.csv')\n",
    "df['Doc_Date'] = pd.to_datetime(df['Doc_Date'])\n",
    "df['Month'] = df['Doc_Date'].dt.to_period('M')"
   ]
  },
  {
   "cell_type": "code",
   "execution_count": 91,
   "metadata": {},
   "outputs": [
    {
     "name": "stdout",
     "output_type": "stream",
     "text": [
      "Lower Bound: -5.0, Upper Bound: 11.0\n",
      "Number of Outliers: 4575\n",
      "Outlier Rows:\n",
      "      Material                     Material Description  SLoc         Area  \\\n",
      "0           15             Plain Washer Din125 A10&5 A2  M4P1  C'SHWAR STR   \n",
      "11          15             Plain Washer Din125 A10&5 A2  M4P4  C'SHWAR STR   \n",
      "12          15             Plain Washer Din125 A10&5 A2  M4P2  C'SHWAR STR   \n",
      "23          15             Plain Washer Din125 A10&5 A2  M1GU        KARAD   \n",
      "24          15             Plain Washer Din125 A10&5 A2  M1GU        KARAD   \n",
      "...        ...                                      ...   ...          ...   \n",
      "37057    92290  fitting skintop PG48 brass   1609480060  M4P3        Area2   \n",
      "37059    92290  fitting skintop PG48 brass   1609480060  M4P4        Area2   \n",
      "37060    92291      counternet brass nickel plated PG48  M4P3        Area2   \n",
      "37062    92291      counternet brass nickel plated PG48  M4P4        Area2   \n",
      "37141    92862  sticker  PCB IGBT DRIVER TERMINAL COVER  M4P2        Area2   \n",
      "\n",
      "       MvT   Doc_Date    Qty.    Amount    Month  \n",
      "0      261 2016-09-14    15.0     28.12  2016-09  \n",
      "11     261 2016-07-14    50.0     93.73  2016-07  \n",
      "12     261 2016-07-09    30.0     56.23  2016-07  \n",
      "23     261 2015-10-23    15.0     28.12  2015-10  \n",
      "24     261 2015-10-23    15.0     28.12  2015-10  \n",
      "...    ...        ...     ...       ...      ...  \n",
      "37057  261 2015-12-21    20.0  27506.29  2015-12  \n",
      "37059  261 2015-11-24    20.0  27470.88  2015-11  \n",
      "37060  261 2015-12-21    20.0   2018.44  2015-12  \n",
      "37062  261 2015-11-24    20.0   2017.92  2015-11  \n",
      "37141  261 2016-01-25  1328.0    212.48  2016-01  \n",
      "\n",
      "[4575 rows x 9 columns]\n"
     ]
    }
   ],
   "source": [
    "def detect_outliers(data, column_name):\n",
    "    Q1 = data[column_name].quantile(0.25)  \n",
    "    Q3 = data[column_name].quantile(0.75)\n",
    "    IQR = Q3 - Q1 \n",
    "    lower_bound = Q1 - 1.5 * IQR\n",
    "    upper_bound = Q3 + 1.5 * IQR\n",
    "\n",
    "    outliers = data[(data[column_name] < lower_bound) | (data[column_name] > upper_bound)]\n",
    "    return outliers, lower_bound, upper_bound\n",
    "\n",
    "outliers, lower_bound, upper_bound = detect_outliers(df, 'Qty.')\n",
    "\n",
    "print(f\"Lower Bound: {lower_bound}, Upper Bound: {upper_bound}\")\n",
    "print(f\"Number of Outliers: {len(outliers)}\")\n",
    "print(\"Outlier Rows:\")\n",
    "print(outliers)\n"
   ]
  },
  {
   "cell_type": "code",
   "execution_count": 92,
   "metadata": {},
   "outputs": [
    {
     "name": "stdout",
     "output_type": "stream",
     "text": [
      "Lower Bound: -5.0, Upper Bound: 11.0\n",
      "Number of Outliers Removed/Handled: 0\n",
      "Outlier Rows After Handling:\n",
      "Empty DataFrame\n",
      "Columns: [Material, Material Description, SLoc, Area, MvT, Doc_Date, Qty., Amount, Month]\n",
      "Index: []\n"
     ]
    },
    {
     "data": {
      "image/png": "[encoded data removed]",
      "text/plain": [
       "<Figure size 1000x600 with 1 Axes>"
      ]
     },
     "metadata": {},
     "output_type": "display_data"
    }
   ],
   "source": [
    "def handle_outliers(data, column_name, strategy='remove'):\n",
    "    \"\"\"Handle outliers using specified strategy ('remove', 'cap', or 'impute').\"\"\"\n",
    "    outliers, lower_bound, upper_bound = detect_outliers(data, column_name)\n",
    "    \n",
    "    if strategy == 'remove':\n",
    "        data_cleaned = data[(data[column_name] >= lower_bound) & (data[column_name] <= upper_bound)]\n",
    "    elif strategy == 'cap':\n",
    "        data_cleaned = data.copy()\n",
    "        data_cleaned[column_name] = np.clip(data[column_name], lower_bound, upper_bound)\n",
    "    elif strategy == 'impute':\n",
    "        median_value = data[column_name].median()\n",
    "        data_cleaned = data.copy()\n",
    "        data_cleaned[column_name] = np.where(\n",
    "            (data[column_name] < lower_bound) | (data[column_name] > upper_bound),\n",
    "            median_value, \n",
    "            data[column_name]\n",
    "        )\n",
    "    else:\n",
    "        raise ValueError(\"Invalid strategy. Choose 'remove', 'cap', or 'impute'.\")\n",
    "    \n",
    "    return data_cleaned\n",
    "\n",
    "strategy = 'cap'  \n",
    "df = handle_outliers(df, 'Qty.', strategy)\n",
    "outliers_removed, lower_bound, upper_bound = detect_outliers(df, 'Qty.')\n",
    "print(f\"Lower Bound: {lower_bound}, Upper Bound: {upper_bound}\")\n",
    "print(f\"Number of Outliers Removed/Handled: {len(outliers_removed)}\")\n",
    "print(\"Outlier Rows After Handling:\")\n",
    "print(outliers_removed)\n",
    "\n",
    "plt.figure(figsize=(10, 6))\n",
    "plt.boxplot(df['Qty.'], vert=False, patch_artist=True, boxprops=dict(facecolor='lightblue'))\n",
    "plt.axvline(lower_bound, color='red', linestyle='--', label='Lower Bound')\n",
    "plt.axvline(upper_bound, color='green', linestyle='--', label='Upper Bound')\n",
    "plt.title(\"Outlier Handling in 'Qty.'\")\n",
    "plt.xlabel(\"Quantity\")\n",
    "plt.legend()\n",
    "plt.grid()\n",
    "plt.show()\n"
   ]
  },
  {
   "cell_type": "code",
   "execution_count": 93,
   "metadata": {},
   "outputs": [],
   "source": [
    "monthly_data = df.groupby(['Material', 'Month'])['Qty.'].sum().reset_index()\n",
    "pivot_data = monthly_data.pivot(index='Month', columns='Material', values='Qty.').fillna(0)"
   ]
  },
  {
   "cell_type": "code",
   "execution_count": 94,
   "metadata": {},
   "outputs": [],
   "source": [
    "total_consumption = pivot_data.sum(axis=0)\n",
    "high_consumption_materials = total_consumption[total_consumption > total_consumption.quantile(0.8)].index\n",
    "high_consumption_data = pivot_data[high_consumption_materials]\n",
    "\n",
    "material_to_forecast = high_consumption_materials[0]\n",
    "series = high_consumption_data[material_to_forecast]"
   ]
  },
  {
   "cell_type": "code",
   "execution_count": 95,
   "metadata": {},
   "outputs": [],
   "source": [
    "train = series[:-12]\n",
    "test = series[-12:]"
   ]
  },
  {
   "cell_type": "code",
   "execution_count": 96,
   "metadata": {},
   "outputs": [],
   "source": [
    "arima_model = ARIMA(train, order=(5, 1, 0))\n",
    "arima_result = arima_model.fit()\n",
    "arima_forecast = arima_result.forecast(steps=12)"
   ]
  },
  {
   "cell_type": "code",
   "execution_count": 97,
   "metadata": {},
   "outputs": [],
   "source": [
    "lags = 12\n",
    "df_lagged = pd.DataFrame({'Actual': series})\n",
    "for lag in range(1, lags + 1):\n",
    "    df_lagged[f'Lag_{lag}'] = series.shift(lag)\n",
    "\n",
    "df_lagged.dropna(inplace=True)"
   ]
  },
  {
   "cell_type": "code",
   "execution_count": 98,
   "metadata": {},
   "outputs": [],
   "source": [
    "X = df_lagged.drop('Actual', axis=1)\n",
    "y = df_lagged['Actual']"
   ]
  },
  {
   "cell_type": "code",
   "execution_count": 99,
   "metadata": {},
   "outputs": [],
   "source": [
    "\n",
    "X_train, X_test, y_train, y_test = train_test_split(\n",
    "    X[:-12], y[:-12], test_size=0.2, random_state=42\n",
    ")\n"
   ]
  },
  {
   "cell_type": "code",
   "execution_count": 100,
   "metadata": {},
   "outputs": [],
   "source": [
    "rf_model = RandomForestRegressor(n_estimators=100, random_state=42)\n",
    "rf_model.fit(X_train, y_train)\n",
    "\n",
    "rf_forecast = rf_model.predict(X[-12:])\n"
   ]
  },
  {
   "cell_type": "code",
   "execution_count": 101,
   "metadata": {},
   "outputs": [
    {
     "data": {
      "image/png": "[encoded data removed]",
      "text/plain": [
       "<Figure size 1400x700 with 1 Axes>"
      ]
     },
     "metadata": {},
     "output_type": "display_data"
    }
   ],
   "source": [
    "\n",
    "plt.figure(figsize=(14, 7))\n",
    "plt.plot(series.index.to_timestamp(), series, label='Actual Data', color='blue')\n",
    "plt.plot(test.index.to_timestamp(), arima_forecast, label='ARIMA Forecast', color='orange')\n",
    "plt.title(f\"Forecast Comparison for Material {material_to_forecast}\")\n",
    "plt.xlabel('Date')\n",
    "plt.ylabel('Quantity')\n",
    "plt.legend()\n",
    "plt.grid()\n",
    "plt.show()"
   ]
  },
  {
   "cell_type": "code",
   "execution_count": 102,
   "metadata": {},
   "outputs": [
    {
     "data": {
      "image/png": "[encoded data removed]",
      "text/plain": [
       "<Figure size 1400x700 with 1 Axes>"
      ]
     },
     "metadata": {},
     "output_type": "display_data"
    }
   ],
   "source": [
    "\n",
    "plt.figure(figsize=(14, 7))\n",
    "plt.plot(series.index.to_timestamp(), series, label='Actual Data', color='blue')\n",
    "plt.plot(test.index.to_timestamp(), rf_forecast, label='Random Forest Forecast', color='green')\n",
    "plt.title(f\"Forecast Comparison for Material {material_to_forecast}\")\n",
    "plt.xlabel('Date')\n",
    "plt.ylabel('Quantity')\n",
    "plt.legend()\n",
    "plt.grid()\n",
    "plt.show()"
   ]
  },
  {
   "cell_type": "code",
   "execution_count": null,
   "metadata": {},
   "outputs": [],
   "source": []
  }
 ],
 "metadata": {
  "kernelspec": {
   "display_name": "Python 3",
   "language": "python",
   "name": "python3"
  },
  "language_info": {
   "codemirror_mode": {
    "name": "ipython",
    "version": 3
   },
   "file_extension": ".py",
   "mimetype": "text/x-python",
   "name": "python",
   "nbconvert_exporter": "python",
   "pygments_lexer": "ipython3",
   "version": "3.12.4"
  }
 },
 "nbformat": 4,
 "nbformat_minor": 2
}
